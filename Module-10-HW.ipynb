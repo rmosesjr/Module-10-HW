{
 "cells": [
  {
   "cell_type": "markdown",
   "id": "6e148156",
   "metadata": {},
   "source": [
    "## Module 10 Homework \n",
    "### Please complete the following questions."
   ]
  },
  {
   "cell_type": "markdown",
   "id": "736faa7d",
   "metadata": {},
   "source": [
    "1. Import the \"babies.xlsx\" dataset. See below for information on the columns:\n",
    "\n",
    "    * bwt - birth weight of newborn baby\n",
    "    * gestation\t- gestation length (weeks)\n",
    "    * parity - previously pregnant (0 = no; 1 = yes)\n",
    "    * age - age of mother\n",
    "    * height - height of mother (inches)\t\n",
    "    * weight - weight of mother (pounds)\n",
    "    * smoke - smoking status of mother (0 = nonsmoker; 1 = smoker)"
   ]
  },
  {
   "cell_type": "code",
   "execution_count": 1,
   "id": "ac6ef2f4",
   "metadata": {},
   "outputs": [],
   "source": [
    "import pandas as pd\n",
    "import numpy as np\n",
    "from scipy import stats\n"
   ]
  },
  {
   "cell_type": "code",
   "execution_count": 2,
   "id": "4b674be5",
   "metadata": {},
   "outputs": [],
   "source": [
    "df = pd.read_excel(\"babies.xlsx\")"
   ]
  },
  {
   "cell_type": "markdown",
   "id": "e04bfa22",
   "metadata": {},
   "source": [
    "2. Preview the first few rows of the dataset. Complete the following checks for your dataset:\n",
    "\n",
    "    * output the summary information for the dataset, what types of variables make up this dataset?\n",
    "    * is there any missing data in this dataset?"
   ]
  },
  {
   "cell_type": "code",
   "execution_count": 3,
   "id": "d86263ee",
   "metadata": {},
   "outputs": [
    {
     "data": {
      "text/html": [
       "<div>\n",
       "<style scoped>\n",
       "    .dataframe tbody tr th:only-of-type {\n",
       "        vertical-align: middle;\n",
       "    }\n",
       "\n",
       "    .dataframe tbody tr th {\n",
       "        vertical-align: top;\n",
       "    }\n",
       "\n",
       "    .dataframe thead th {\n",
       "        text-align: right;\n",
       "    }\n",
       "</style>\n",
       "<table border=\"1\" class=\"dataframe\">\n",
       "  <thead>\n",
       "    <tr style=\"text-align: right;\">\n",
       "      <th></th>\n",
       "      <th>bwt</th>\n",
       "      <th>gestation</th>\n",
       "      <th>parity</th>\n",
       "      <th>age</th>\n",
       "      <th>height</th>\n",
       "      <th>weight</th>\n",
       "      <th>smoke</th>\n",
       "    </tr>\n",
       "  </thead>\n",
       "  <tbody>\n",
       "    <tr>\n",
       "      <th>0</th>\n",
       "      <td>120</td>\n",
       "      <td>284.0</td>\n",
       "      <td>0</td>\n",
       "      <td>27.0</td>\n",
       "      <td>62.0</td>\n",
       "      <td>100.0</td>\n",
       "      <td>0.0</td>\n",
       "    </tr>\n",
       "    <tr>\n",
       "      <th>1</th>\n",
       "      <td>113</td>\n",
       "      <td>282.0</td>\n",
       "      <td>0</td>\n",
       "      <td>33.0</td>\n",
       "      <td>64.0</td>\n",
       "      <td>135.0</td>\n",
       "      <td>0.0</td>\n",
       "    </tr>\n",
       "    <tr>\n",
       "      <th>2</th>\n",
       "      <td>128</td>\n",
       "      <td>279.0</td>\n",
       "      <td>0</td>\n",
       "      <td>28.0</td>\n",
       "      <td>64.0</td>\n",
       "      <td>77.0</td>\n",
       "      <td>1.0</td>\n",
       "    </tr>\n",
       "    <tr>\n",
       "      <th>3</th>\n",
       "      <td>123</td>\n",
       "      <td>NaN</td>\n",
       "      <td>0</td>\n",
       "      <td>36.0</td>\n",
       "      <td>69.0</td>\n",
       "      <td>190.0</td>\n",
       "      <td>0.0</td>\n",
       "    </tr>\n",
       "    <tr>\n",
       "      <th>4</th>\n",
       "      <td>108</td>\n",
       "      <td>282.0</td>\n",
       "      <td>0</td>\n",
       "      <td>23.0</td>\n",
       "      <td>67.0</td>\n",
       "      <td>125.0</td>\n",
       "      <td>1.0</td>\n",
       "    </tr>\n",
       "  </tbody>\n",
       "</table>\n",
       "</div>"
      ],
      "text/plain": [
       "   bwt  gestation  parity   age  height  weight  smoke\n",
       "0  120      284.0       0  27.0    62.0   100.0    0.0\n",
       "1  113      282.0       0  33.0    64.0   135.0    0.0\n",
       "2  128      279.0       0  28.0    64.0    77.0    1.0\n",
       "3  123        NaN       0  36.0    69.0   190.0    0.0\n",
       "4  108      282.0       0  23.0    67.0   125.0    1.0"
      ]
     },
     "execution_count": 3,
     "metadata": {},
     "output_type": "execute_result"
    }
   ],
   "source": [
    "df.head()"
   ]
  },
  {
   "cell_type": "code",
   "execution_count": 4,
   "id": "2fc72324",
   "metadata": {},
   "outputs": [
    {
     "name": "stdout",
     "output_type": "stream",
     "text": [
      "<class 'pandas.core.frame.DataFrame'>\n",
      "RangeIndex: 1236 entries, 0 to 1235\n",
      "Data columns (total 7 columns):\n",
      " #   Column     Non-Null Count  Dtype  \n",
      "---  ------     --------------  -----  \n",
      " 0   bwt        1236 non-null   int64  \n",
      " 1   gestation  1223 non-null   float64\n",
      " 2   parity     1236 non-null   int64  \n",
      " 3   age        1234 non-null   float64\n",
      " 4   height     1214 non-null   float64\n",
      " 5   weight     1200 non-null   float64\n",
      " 6   smoke      1226 non-null   float64\n",
      "dtypes: float64(5), int64(2)\n",
      "memory usage: 67.7 KB\n"
     ]
    }
   ],
   "source": [
    "df.info()"
   ]
  },
  {
   "cell_type": "code",
   "execution_count": 5,
   "id": "5f626ef9",
   "metadata": {},
   "outputs": [
    {
     "data": {
      "text/plain": [
       "bwt           0\n",
       "gestation    13\n",
       "parity        0\n",
       "age           2\n",
       "height       22\n",
       "weight       36\n",
       "smoke        10\n",
       "dtype: int64"
      ]
     },
     "execution_count": 5,
     "metadata": {},
     "output_type": "execute_result"
    }
   ],
   "source": [
    "# 1236 rows 7 columns\n",
    "# data is int64(2) and float64(5) numbers\n",
    "\n",
    "df.isnull().sum()\n",
    "# there are missing data in gestaition, age, hieghts, wieght, smoke\n"
   ]
  },
  {
   "cell_type": "markdown",
   "id": "f2a9f160",
   "metadata": {},
   "source": [
    "3. Handle the missing data in the dataset -- there isn't much, so we can drop all the rows that have at least one missing value. How many rows were dropped from the dataset?"
   ]
  },
  {
   "cell_type": "code",
   "execution_count": 6,
   "id": "9b362c54",
   "metadata": {},
   "outputs": [
    {
     "data": {
      "text/html": [
       "<div>\n",
       "<style scoped>\n",
       "    .dataframe tbody tr th:only-of-type {\n",
       "        vertical-align: middle;\n",
       "    }\n",
       "\n",
       "    .dataframe tbody tr th {\n",
       "        vertical-align: top;\n",
       "    }\n",
       "\n",
       "    .dataframe thead th {\n",
       "        text-align: right;\n",
       "    }\n",
       "</style>\n",
       "<table border=\"1\" class=\"dataframe\">\n",
       "  <thead>\n",
       "    <tr style=\"text-align: right;\">\n",
       "      <th></th>\n",
       "      <th>bwt</th>\n",
       "      <th>gestation</th>\n",
       "      <th>parity</th>\n",
       "      <th>age</th>\n",
       "      <th>height</th>\n",
       "      <th>weight</th>\n",
       "      <th>smoke</th>\n",
       "    </tr>\n",
       "  </thead>\n",
       "  <tbody>\n",
       "    <tr>\n",
       "      <th>3</th>\n",
       "      <td>123</td>\n",
       "      <td>NaN</td>\n",
       "      <td>0</td>\n",
       "      <td>36.0</td>\n",
       "      <td>69.0</td>\n",
       "      <td>190.0</td>\n",
       "      <td>0.0</td>\n",
       "    </tr>\n",
       "    <tr>\n",
       "      <th>39</th>\n",
       "      <td>128</td>\n",
       "      <td>282.0</td>\n",
       "      <td>0</td>\n",
       "      <td>31.0</td>\n",
       "      <td>65.0</td>\n",
       "      <td>NaN</td>\n",
       "      <td>0.0</td>\n",
       "    </tr>\n",
       "    <tr>\n",
       "      <th>42</th>\n",
       "      <td>138</td>\n",
       "      <td>302.0</td>\n",
       "      <td>0</td>\n",
       "      <td>26.0</td>\n",
       "      <td>NaN</td>\n",
       "      <td>NaN</td>\n",
       "      <td>1.0</td>\n",
       "    </tr>\n",
       "    <tr>\n",
       "      <th>85</th>\n",
       "      <td>129</td>\n",
       "      <td>274.0</td>\n",
       "      <td>0</td>\n",
       "      <td>29.0</td>\n",
       "      <td>71.0</td>\n",
       "      <td>NaN</td>\n",
       "      <td>1.0</td>\n",
       "    </tr>\n",
       "    <tr>\n",
       "      <th>89</th>\n",
       "      <td>114</td>\n",
       "      <td>NaN</td>\n",
       "      <td>0</td>\n",
       "      <td>24.0</td>\n",
       "      <td>67.0</td>\n",
       "      <td>113.0</td>\n",
       "      <td>1.0</td>\n",
       "    </tr>\n",
       "    <tr>\n",
       "      <th>...</th>\n",
       "      <td>...</td>\n",
       "      <td>...</td>\n",
       "      <td>...</td>\n",
       "      <td>...</td>\n",
       "      <td>...</td>\n",
       "      <td>...</td>\n",
       "      <td>...</td>\n",
       "    </tr>\n",
       "    <tr>\n",
       "      <th>1044</th>\n",
       "      <td>117</td>\n",
       "      <td>323.0</td>\n",
       "      <td>0</td>\n",
       "      <td>26.0</td>\n",
       "      <td>62.0</td>\n",
       "      <td>NaN</td>\n",
       "      <td>0.0</td>\n",
       "    </tr>\n",
       "    <tr>\n",
       "      <th>1177</th>\n",
       "      <td>146</td>\n",
       "      <td>305.0</td>\n",
       "      <td>0</td>\n",
       "      <td>23.0</td>\n",
       "      <td>NaN</td>\n",
       "      <td>NaN</td>\n",
       "      <td>0.0</td>\n",
       "    </tr>\n",
       "    <tr>\n",
       "      <th>1190</th>\n",
       "      <td>104</td>\n",
       "      <td>275.0</td>\n",
       "      <td>0</td>\n",
       "      <td>24.0</td>\n",
       "      <td>NaN</td>\n",
       "      <td>NaN</td>\n",
       "      <td>0.0</td>\n",
       "    </tr>\n",
       "    <tr>\n",
       "      <th>1192</th>\n",
       "      <td>124</td>\n",
       "      <td>NaN</td>\n",
       "      <td>1</td>\n",
       "      <td>39.0</td>\n",
       "      <td>65.0</td>\n",
       "      <td>228.0</td>\n",
       "      <td>0.0</td>\n",
       "    </tr>\n",
       "    <tr>\n",
       "      <th>1215</th>\n",
       "      <td>152</td>\n",
       "      <td>267.0</td>\n",
       "      <td>0</td>\n",
       "      <td>28.0</td>\n",
       "      <td>NaN</td>\n",
       "      <td>119.0</td>\n",
       "      <td>1.0</td>\n",
       "    </tr>\n",
       "  </tbody>\n",
       "</table>\n",
       "<p>62 rows × 7 columns</p>\n",
       "</div>"
      ],
      "text/plain": [
       "      bwt  gestation  parity   age  height  weight  smoke\n",
       "3     123        NaN       0  36.0    69.0   190.0    0.0\n",
       "39    128      282.0       0  31.0    65.0     NaN    0.0\n",
       "42    138      302.0       0  26.0     NaN     NaN    1.0\n",
       "85    129      274.0       0  29.0    71.0     NaN    1.0\n",
       "89    114        NaN       0  24.0    67.0   113.0    1.0\n",
       "...   ...        ...     ...   ...     ...     ...    ...\n",
       "1044  117      323.0       0  26.0    62.0     NaN    0.0\n",
       "1177  146      305.0       0  23.0     NaN     NaN    0.0\n",
       "1190  104      275.0       0  24.0     NaN     NaN    0.0\n",
       "1192  124        NaN       1  39.0    65.0   228.0    0.0\n",
       "1215  152      267.0       0  28.0     NaN   119.0    1.0\n",
       "\n",
       "[62 rows x 7 columns]"
      ]
     },
     "execution_count": 6,
     "metadata": {},
     "output_type": "execute_result"
    }
   ],
   "source": [
    "df.loc[df.isnull().any(axis = 1)] # 62 rows contain missing data"
   ]
  },
  {
   "cell_type": "code",
   "execution_count": 7,
   "id": "8ceabcbe",
   "metadata": {},
   "outputs": [],
   "source": [
    "df.dropna(inplace = True)"
   ]
  },
  {
   "cell_type": "code",
   "execution_count": 8,
   "id": "60857cad",
   "metadata": {},
   "outputs": [
    {
     "data": {
      "text/plain": [
       "bwt          0\n",
       "gestation    0\n",
       "parity       0\n",
       "age          0\n",
       "height       0\n",
       "weight       0\n",
       "smoke        0\n",
       "dtype: int64"
      ]
     },
     "execution_count": 8,
     "metadata": {},
     "output_type": "execute_result"
    }
   ],
   "source": [
    "df.isna().sum()"
   ]
  },
  {
   "cell_type": "markdown",
   "id": "562e6e31",
   "metadata": {},
   "source": [
    "4. There are two qualitative variables in this dataset. What are they? How do you know they are qualitative variables?"
   ]
  },
  {
   "cell_type": "markdown",
   "id": "b8d76018",
   "metadata": {},
   "source": [
    "Smoke and parity are qualitative variables.  The variables are either 1 or 0 to indicate yes or no, meaning they are categories and not qauntitative values."
   ]
  },
  {
   "cell_type": "markdown",
   "id": "eaee4ec8",
   "metadata": {},
   "source": [
    "5. Replace the values in the qualitative variables with meaningful labels that describe the different groups. Use any method you've learned in previous modules to complete this task. "
   ]
  },
  {
   "cell_type": "code",
   "execution_count": 9,
   "id": "3e8abc37",
   "metadata": {},
   "outputs": [],
   "source": [
    "df[\"parity\"].replace([0,1],[\"No\",\"Yes\"],inplace = True)\n",
    "df[\"smoke\"].replace([0,1],[\"nonsmoker\",\"smoker\"],inplace = True)"
   ]
  },
  {
   "cell_type": "code",
   "execution_count": 10,
   "id": "5a3805a4",
   "metadata": {},
   "outputs": [
    {
     "data": {
      "text/html": [
       "<div>\n",
       "<style scoped>\n",
       "    .dataframe tbody tr th:only-of-type {\n",
       "        vertical-align: middle;\n",
       "    }\n",
       "\n",
       "    .dataframe tbody tr th {\n",
       "        vertical-align: top;\n",
       "    }\n",
       "\n",
       "    .dataframe thead th {\n",
       "        text-align: right;\n",
       "    }\n",
       "</style>\n",
       "<table border=\"1\" class=\"dataframe\">\n",
       "  <thead>\n",
       "    <tr style=\"text-align: right;\">\n",
       "      <th></th>\n",
       "      <th>bwt</th>\n",
       "      <th>gestation</th>\n",
       "      <th>parity</th>\n",
       "      <th>age</th>\n",
       "      <th>height</th>\n",
       "      <th>weight</th>\n",
       "      <th>smoke</th>\n",
       "    </tr>\n",
       "  </thead>\n",
       "  <tbody>\n",
       "    <tr>\n",
       "      <th>0</th>\n",
       "      <td>120</td>\n",
       "      <td>284.0</td>\n",
       "      <td>No</td>\n",
       "      <td>27.0</td>\n",
       "      <td>62.0</td>\n",
       "      <td>100.0</td>\n",
       "      <td>nonsmoker</td>\n",
       "    </tr>\n",
       "    <tr>\n",
       "      <th>1</th>\n",
       "      <td>113</td>\n",
       "      <td>282.0</td>\n",
       "      <td>No</td>\n",
       "      <td>33.0</td>\n",
       "      <td>64.0</td>\n",
       "      <td>135.0</td>\n",
       "      <td>nonsmoker</td>\n",
       "    </tr>\n",
       "    <tr>\n",
       "      <th>2</th>\n",
       "      <td>128</td>\n",
       "      <td>279.0</td>\n",
       "      <td>No</td>\n",
       "      <td>28.0</td>\n",
       "      <td>64.0</td>\n",
       "      <td>77.0</td>\n",
       "      <td>smoker</td>\n",
       "    </tr>\n",
       "    <tr>\n",
       "      <th>4</th>\n",
       "      <td>108</td>\n",
       "      <td>282.0</td>\n",
       "      <td>No</td>\n",
       "      <td>23.0</td>\n",
       "      <td>67.0</td>\n",
       "      <td>125.0</td>\n",
       "      <td>smoker</td>\n",
       "    </tr>\n",
       "    <tr>\n",
       "      <th>5</th>\n",
       "      <td>136</td>\n",
       "      <td>286.0</td>\n",
       "      <td>No</td>\n",
       "      <td>25.0</td>\n",
       "      <td>62.0</td>\n",
       "      <td>93.0</td>\n",
       "      <td>nonsmoker</td>\n",
       "    </tr>\n",
       "  </tbody>\n",
       "</table>\n",
       "</div>"
      ],
      "text/plain": [
       "   bwt  gestation parity   age  height  weight      smoke\n",
       "0  120      284.0     No  27.0    62.0   100.0  nonsmoker\n",
       "1  113      282.0     No  33.0    64.0   135.0  nonsmoker\n",
       "2  128      279.0     No  28.0    64.0    77.0     smoker\n",
       "4  108      282.0     No  23.0    67.0   125.0     smoker\n",
       "5  136      286.0     No  25.0    62.0    93.0  nonsmoker"
      ]
     },
     "execution_count": 10,
     "metadata": {},
     "output_type": "execute_result"
    }
   ],
   "source": [
    "df.head()"
   ]
  },
  {
   "cell_type": "markdown",
   "id": "6974eb82",
   "metadata": {},
   "source": [
    "6. Before we move forward with any statistics, let's identify and remove any outliers from the dataset. Using the IQR method, search for outliers in the 5 numeric variables. This will take some time and organization, be careful with your code! Make sure you keep track of how many rows/outliers are removed. "
   ]
  },
  {
   "cell_type": "code",
   "execution_count": 11,
   "id": "3070de25",
   "metadata": {},
   "outputs": [
    {
     "name": "stdout",
     "output_type": "stream",
     "text": [
      "(1174, 7)\n",
      "(1174, 7)\n"
     ]
    }
   ],
   "source": [
    "# create copy\n",
    "dfq = df.copy()\n",
    "dfq2 = df.copy()\n",
    "print(dfq.shape)\n",
    "print(dfq2.shape)"
   ]
  },
  {
   "cell_type": "code",
   "execution_count": 12,
   "id": "7d32d4a5",
   "metadata": {},
   "outputs": [],
   "source": [
    "# method 1\n",
    "# drop outlying numeric vars (bwt,gestation,age,height,weight) using inter qurtile range 1.5 rule\n",
    "\n",
    "# quartiles and IQR\n",
    "bwt_q1 = dfq[\"bwt\"].quantile(.25)\n",
    "bwt_q3 = dfq[\"bwt\"].quantile(.75)\n",
    "bwt_iqr = bwt_q3 - bwt_q1\n",
    "\n",
    "gest_q1 = dfq[\"gestation\"].quantile(.25)\n",
    "gest_q3 = dfq[\"gestation\"].quantile(.75)\n",
    "gest_iqr = gest_q3 - gest_q1\n",
    "\n",
    "age_q1 = dfq[\"age\"].quantile(.25)\n",
    "age_q3 = dfq[\"age\"].quantile(.75)\n",
    "age_iqr = age_q3 - age_q1\n",
    "\n",
    "ht_q1 = dfq[\"height\"].quantile(.25)\n",
    "ht_q3 = dfq[\"height\"].quantile(.75)\n",
    "ht_iqr = ht_q3 - ht_q1\n",
    "\n",
    "wt_q1 = dfq[\"weight\"].quantile(.25)\n",
    "wt_q3 = dfq[\"weight\"].quantile(.75)\n",
    "wt_iqr = wt_q3 - wt_q1\n"
   ]
  },
  {
   "cell_type": "code",
   "execution_count": 13,
   "id": "01e0dd65",
   "metadata": {},
   "outputs": [],
   "source": [
    "# upper and lower limit\n",
    "# 1.5 rule below q1 - (1.5 iqr) above q3 + (1.5iqr)\n",
    "\n",
    "bwt_top = bwt_q3 + (bwt_iqr * 1.5)\n",
    "bwt_bottom = bwt_q1 - (bwt_iqr * 1.5)\n",
    "\n",
    "gest_top = gest_q3 + (gest_iqr * 1.5)\n",
    "gest_bottom = gest_q1 - (gest_iqr * 1.5)\n",
    " \n",
    "age_top = age_q3 + (age_iqr * 1.5)\n",
    "age_bottom = age_q1 - (age_iqr * 1.5)\n",
    " \n",
    "ht_top = ht_q3 + (ht_iqr * 1.5)\n",
    "ht_bottom = ht_q1 - (ht_iqr * 1.5)\n",
    " \n",
    "wt_top = wt_q3 + (wt_iqr * 1.5)\n",
    "wt_bottom = wt_q1 - (wt_iqr * 1.5)\n"
   ]
  },
  {
   "cell_type": "code",
   "execution_count": 14,
   "id": "e16286df",
   "metadata": {},
   "outputs": [],
   "source": [
    "# outlier indices\n",
    "\n",
    "# iqr_outliers = dfq.loc[(dfq[] > top) | (dfq[] < bottom)].index\n",
    "bwt_iqr_outliers = dfq.loc[(dfq['bwt'] > bwt_top) | (dfq['bwt'] < bwt_bottom)].index\n",
    "# drop outliers\n",
    "dfq = dfq.drop(bwt_iqr_outliers)\n",
    "\n",
    "gest_iqr_outliers = dfq.loc[(dfq['gestation'] > gest_top) | (dfq['gestation'] < gest_bottom)].index\n",
    "dfq = dfq.drop(gest_iqr_outliers)\n",
    "\n",
    "age_iqr_outliers = dfq.loc[(dfq['age'] > age_top) | (dfq['age'] < age_bottom)].index\n",
    "dfq = dfq.drop(age_iqr_outliers)\n",
    "\n",
    "ht_iqr_outliers = dfq.loc[(dfq['height'] > ht_top) | (dfq['height'] < ht_bottom)].index\n",
    "dfq = dfq.drop(ht_iqr_outliers)\n",
    "\n",
    "wt_iqr_outliers = dfq.loc[(dfq['weight'] > wt_top) | (dfq['weight'] < wt_bottom)].index\n",
    "dfq = dfq.drop(wt_iqr_outliers)"
   ]
  },
  {
   "cell_type": "code",
   "execution_count": 15,
   "id": "a1713822",
   "metadata": {
    "scrolled": true
   },
   "outputs": [
    {
     "name": "stdout",
     "output_type": "stream",
     "text": [
      "bwt_Q1: 108.0\n",
      "bwt_Q3: 131.0\n",
      "bwt_IQR: 23.0\n",
      "bwt_Upper Limit: 165.5\n",
      "bwt_Lower Limit: 73.5\n",
      "bwt_INDEX VALUES: Int64Index([ 239,  309,  361,  462,  500,  529,  556,  594,  632,  709,  738,\n",
      "             747,  829,  904,  912,  978, 1021, 1035, 1063, 1065, 1099, 1139,\n",
      "            1148, 1169],\n",
      "           dtype='int64')\n",
      "\n",
      "gest_Q1: 272.0\n",
      "gest_Q3: 288.0\n",
      "gest_IQR: 16.0\n",
      "gest_Upper Limit: 312.0\n",
      "gest_Lower Limit: 248.0\n",
      "gest_INDEX VALUES: Int64Index([   6,    7,   10,   59,   63,   66,  119,  129,  155,  188,  192,\n",
      "             198,  210,  215,  217,  234,  240,  253,  260,  279,  345,  373,\n",
      "             394,  440,  460,  484,  511,  523,  630,  685,  699,  710,  726,\n",
      "             746,  761,  769,  778,  784,  828,  830,  833,  869,  927,  952,\n",
      "             969, 1002, 1020, 1026, 1074, 1134, 1140, 1142, 1146, 1152, 1172,\n",
      "            1178, 1199, 1206, 1207, 1217, 1219, 1226],\n",
      "           dtype='int64')\n",
      "\n",
      "age_Q1: 23.0\n",
      "age_Q3: 31.0\n",
      "age_IQR: 8.0\n",
      "age_Upper Limit: 43.0\n",
      "age_Lower Limit: 11.0\n",
      "age_INDEX VALUES: Int64Index([633, 1070], dtype='int64')\n",
      "\n",
      "ht_Q1: 62.0\n",
      "ht_Q3: 66.0\n",
      "ht_IQR: 4.0\n",
      "ht_Upper Limit: 72.0\n",
      "ht_Lower Limit: 56.0\n",
      "ht_INDEX VALUES: Int64Index([434, 1208], dtype='int64')\n",
      "\n",
      "wt_Q1: 114.0\n",
      "wt_Q3: 139.75\n",
      "wt_IQR: 25.75\n",
      "wt_Upper Limit: 178.375\n",
      "wt_Lower Limit: 75.375\n",
      "wt_INDEX VALUES: Int64Index([  14,   23,   88,  117,  125,  149,  162,  181,  183,  222,  287,\n",
      "             314,  344,  411,  426,  458,  512,  522,  528,  563,  595,  608,\n",
      "             622,  723,  733,  849,  858,  859,  865,  888,  911,  924, 1008,\n",
      "            1167, 1212, 1233],\n",
      "           dtype='int64')\n",
      "\n"
     ]
    },
    {
     "data": {
      "text/plain": [
       "(1048, 7)"
      ]
     },
     "execution_count": 15,
     "metadata": {},
     "output_type": "execute_result"
    }
   ],
   "source": [
    "\n",
    "\n",
    "print(\"bwt_Q1:\", bwt_q1)\n",
    "print(\"bwt_Q3:\", bwt_q3)\n",
    "print(\"bwt_IQR:\", bwt_iqr)\n",
    "print(\"bwt_Upper Limit:\", bwt_top)\n",
    "print(\"bwt_Lower Limit:\", bwt_bottom)\n",
    "print(\"bwt_INDEX VALUES:\", bwt_iqr_outliers)\n",
    "print()\n",
    "\n",
    "print(\"gest_Q1:\", gest_q1)\n",
    "print(\"gest_Q3:\", gest_q3)\n",
    "print(\"gest_IQR:\", gest_iqr)\n",
    "print(\"gest_Upper Limit:\", gest_top)\n",
    "print(\"gest_Lower Limit:\", gest_bottom)\n",
    "print(\"gest_INDEX VALUES:\", gest_iqr_outliers)\n",
    "print()\n",
    "\n",
    "print(\"age_Q1:\", age_q1)\n",
    "print(\"age_Q3:\", age_q3)\n",
    "print(\"age_IQR:\", age_iqr)\n",
    "print(\"age_Upper Limit:\", age_top)\n",
    "print(\"age_Lower Limit:\", age_bottom)\n",
    "print(\"age_INDEX VALUES:\", age_iqr_outliers)\n",
    "print()\n",
    "\n",
    "print(\"ht_Q1:\", ht_q1)\n",
    "print(\"ht_Q3:\", ht_q3)\n",
    "print(\"ht_IQR:\", ht_iqr)\n",
    "print(\"ht_Upper Limit:\", ht_top)\n",
    "print(\"ht_Lower Limit:\", ht_bottom)\n",
    "print(\"ht_INDEX VALUES:\", ht_iqr_outliers)\n",
    "print()\n",
    "\n",
    "print(\"wt_Q1:\", wt_q1)\n",
    "print(\"wt_Q3:\", wt_q3)\n",
    "print(\"wt_IQR:\", wt_iqr)\n",
    "print(\"wt_Upper Limit:\", wt_top)\n",
    "print(\"wt_Lower Limit:\", wt_bottom)\n",
    "print(\"wt_INDEX VALUES:\", wt_iqr_outliers)\n",
    "print()\n",
    "\n",
    "dfq.shape"
   ]
  },
  {
   "cell_type": "code",
   "execution_count": 16,
   "id": "c01b69d7",
   "metadata": {},
   "outputs": [],
   "source": [
    "#method 2\n",
    "#drop outlying numeric vars (bwt,gestation,age,height,weight) using inter qurtile range 1.5 rule\n",
    "# columns with quantitative values \n",
    "columns = [\"bwt\",\"gestation\",\"age\",\"height\",\"weight\"]\n",
    "\n",
    "def iqr_outliers(column,df_q,df_):\n",
    "    #inter quratile range\n",
    "    q1 = df[column].quantile(.25)\n",
    "    q3 = df[column].quantile(.75)\n",
    "    iqr = q3 - q1\n",
    "    # outlier range with 1.5 rule\n",
    "    top =  q3 + (iqr * 1.5)\n",
    "    bottom = q1 - (iqr * 1.5)\n",
    "    iqr_outliers = df_q.loc[(df_q[column] > top) | (df_q[column] < bottom)].index\n",
    "    \n",
    "    print(f\"{column} Q1:\", q1)\n",
    "    print(f\"{column} Q3:\", q3)\n",
    "    print(f\"{column} IQR:\", iqr)\n",
    "    print(f\"{column} Upper Limit:\", top)\n",
    "    print(f\"{column} Lower Limit:\", bottom)\n",
    "    print(f\"{column} INDEX VALUES:\", iqr_outliers)\n",
    "    print() \n",
    "    return iqr_outliers\n",
    "\n"
   ]
  },
  {
   "cell_type": "code",
   "execution_count": 17,
   "id": "82481ecc",
   "metadata": {},
   "outputs": [
    {
     "name": "stdout",
     "output_type": "stream",
     "text": [
      "bwt Q1: 108.0\n",
      "bwt Q3: 131.0\n",
      "bwt IQR: 23.0\n",
      "bwt Upper Limit: 165.5\n",
      "bwt Lower Limit: 73.5\n",
      "bwt INDEX VALUES: Int64Index([ 239,  309,  361,  462,  500,  529,  556,  594,  632,  709,  738,\n",
      "             747,  829,  904,  912,  978, 1021, 1035, 1063, 1065, 1099, 1139,\n",
      "            1148, 1169],\n",
      "           dtype='int64')\n",
      "\n",
      "gestation Q1: 272.0\n",
      "gestation Q3: 288.0\n",
      "gestation IQR: 16.0\n",
      "gestation Upper Limit: 312.0\n",
      "gestation Lower Limit: 248.0\n",
      "gestation INDEX VALUES: Int64Index([   6,    7,   10,   59,   63,   66,  119,  129,  155,  188,  192,\n",
      "             198,  210,  215,  217,  234,  240,  253,  260,  279,  345,  373,\n",
      "             394,  440,  460,  484,  511,  523,  630,  685,  699,  710,  726,\n",
      "             746,  761,  769,  778,  784,  828,  830,  833,  869,  927,  952,\n",
      "             969, 1002, 1020, 1026, 1074, 1134, 1140, 1142, 1146, 1152, 1172,\n",
      "            1178, 1199, 1206, 1207, 1217, 1219, 1226],\n",
      "           dtype='int64')\n",
      "\n",
      "age Q1: 23.0\n",
      "age Q3: 31.0\n",
      "age IQR: 8.0\n",
      "age Upper Limit: 43.0\n",
      "age Lower Limit: 11.0\n",
      "age INDEX VALUES: Int64Index([633, 1070], dtype='int64')\n",
      "\n",
      "height Q1: 62.0\n",
      "height Q3: 66.0\n",
      "height IQR: 4.0\n",
      "height Upper Limit: 72.0\n",
      "height Lower Limit: 56.0\n",
      "height INDEX VALUES: Int64Index([434, 1208], dtype='int64')\n",
      "\n",
      "weight Q1: 114.0\n",
      "weight Q3: 139.75\n",
      "weight IQR: 25.75\n",
      "weight Upper Limit: 178.375\n",
      "weight Lower Limit: 75.375\n",
      "weight INDEX VALUES: Int64Index([  14,   23,   88,  117,  125,  149,  162,  181,  183,  222,  287,\n",
      "             314,  344,  411,  426,  458,  512,  522,  528,  563,  595,  608,\n",
      "             622,  723,  733,  849,  858,  859,  865,  888,  911,  924, 1008,\n",
      "            1167, 1212, 1233],\n",
      "           dtype='int64')\n",
      "\n"
     ]
    }
   ],
   "source": [
    "for column in columns:\n",
    "    # pass original data frame while modifying dfq2 to calculate outliers from original data\n",
    "    dfq2.drop(iqr_outliers(column,df_q = dfq2,df_ = df),inplace=True)\n",
    "    "
   ]
  },
  {
   "cell_type": "code",
   "execution_count": 18,
   "id": "e1c05b54",
   "metadata": {},
   "outputs": [
    {
     "name": "stdout",
     "output_type": "stream",
     "text": [
      "original dataframe shape (1174, 7)\n",
      "dfq dataframe shape (1048, 7)\n",
      "dfq2 dataframe shape (1048, 7)\n"
     ]
    }
   ],
   "source": [
    "# method 1 and 2 removes the same number of rows - 126 rows removed.\n",
    "print(f\"original dataframe shape {df.shape}\") \n",
    "print(f\"dfq dataframe shape {dfq.shape}\")\n",
    "print(f\"dfq2 dataframe shape {dfq2.shape}\")\n"
   ]
  },
  {
   "cell_type": "markdown",
   "id": "92b59a17",
   "metadata": {},
   "source": [
    "7. Describe the characteristics of your qualitative variables by doing the following:\n",
    "\n",
    "    * Determine the frequencies of each group within each categorical variable. Which groups have the highest frequency?\n",
    "    * Determine the relative frequencies of each group within each categorical variable. Which groups have the highest relative frequencies?\n",
    "    * Create a crosstab table using both the categorical variables in your dataset. How many mothers are smokers who have been pregnant before?"
   ]
  },
  {
   "cell_type": "code",
   "execution_count": 19,
   "id": "371d5497",
   "metadata": {
    "scrolled": true
   },
   "outputs": [
    {
     "data": {
      "text/plain": [
       "No     766\n",
       "Yes    282\n",
       "Name: parity, dtype: int64"
      ]
     },
     "execution_count": 19,
     "metadata": {},
     "output_type": "execute_result"
    }
   ],
   "source": [
    "# parity - previously pregnant (yes/no)\n",
    "# No previous pregnancy has the highest frequency.\n",
    "dfq[\"parity\"].value_counts()"
   ]
  },
  {
   "cell_type": "code",
   "execution_count": 20,
   "id": "8edcd21a",
   "metadata": {
    "scrolled": true
   },
   "outputs": [
    {
     "data": {
      "text/plain": [
       "nonsmoker    634\n",
       "smoker       414\n",
       "Name: smoke, dtype: int64"
      ]
     },
     "execution_count": 20,
     "metadata": {},
     "output_type": "execute_result"
    }
   ],
   "source": [
    "#smoke - smoking status of mother (nonsmoker/smoker)\n",
    "# nonsmoker has the highest frequency.\n",
    "dfq[\"smoke\"].value_counts()"
   ]
  },
  {
   "cell_type": "code",
   "execution_count": 21,
   "id": "3f6dce35",
   "metadata": {},
   "outputs": [
    {
     "data": {
      "text/plain": [
       "No     0.730916\n",
       "Yes    0.269084\n",
       "Name: parity, dtype: float64"
      ]
     },
     "execution_count": 21,
     "metadata": {},
     "output_type": "execute_result"
    }
   ],
   "source": [
    "dfq[\"parity\"].value_counts(normalize = True)\n",
    "# No previous pregnancy has the highest relative frequency with 73% of mothers having no previous prgnancy."
   ]
  },
  {
   "cell_type": "code",
   "execution_count": 22,
   "id": "38248ffd",
   "metadata": {},
   "outputs": [
    {
     "data": {
      "text/plain": [
       "nonsmoker    0.604962\n",
       "smoker       0.395038\n",
       "Name: smoke, dtype: float64"
      ]
     },
     "execution_count": 22,
     "metadata": {},
     "output_type": "execute_result"
    }
   ],
   "source": [
    "dfq[\"smoke\"].value_counts(normalize = True)\n",
    "# nonsmoker has the highest relative frequency with 60.5% of mothers being nonsmokers."
   ]
  },
  {
   "cell_type": "code",
   "execution_count": 23,
   "id": "8217efcd",
   "metadata": {},
   "outputs": [
    {
     "data": {
      "text/html": [
       "<div>\n",
       "<style scoped>\n",
       "    .dataframe tbody tr th:only-of-type {\n",
       "        vertical-align: middle;\n",
       "    }\n",
       "\n",
       "    .dataframe tbody tr th {\n",
       "        vertical-align: top;\n",
       "    }\n",
       "\n",
       "    .dataframe thead th {\n",
       "        text-align: right;\n",
       "    }\n",
       "</style>\n",
       "<table border=\"1\" class=\"dataframe\">\n",
       "  <thead>\n",
       "    <tr style=\"text-align: right;\">\n",
       "      <th>parity</th>\n",
       "      <th>No</th>\n",
       "      <th>Yes</th>\n",
       "      <th>All</th>\n",
       "    </tr>\n",
       "    <tr>\n",
       "      <th>smoke</th>\n",
       "      <th></th>\n",
       "      <th></th>\n",
       "      <th></th>\n",
       "    </tr>\n",
       "  </thead>\n",
       "  <tbody>\n",
       "    <tr>\n",
       "      <th>nonsmoker</th>\n",
       "      <td>462</td>\n",
       "      <td>172</td>\n",
       "      <td>634</td>\n",
       "    </tr>\n",
       "    <tr>\n",
       "      <th>smoker</th>\n",
       "      <td>304</td>\n",
       "      <td>110</td>\n",
       "      <td>414</td>\n",
       "    </tr>\n",
       "    <tr>\n",
       "      <th>All</th>\n",
       "      <td>766</td>\n",
       "      <td>282</td>\n",
       "      <td>1048</td>\n",
       "    </tr>\n",
       "  </tbody>\n",
       "</table>\n",
       "</div>"
      ],
      "text/plain": [
       "parity      No  Yes   All\n",
       "smoke                    \n",
       "nonsmoker  462  172   634\n",
       "smoker     304  110   414\n",
       "All        766  282  1048"
      ]
     },
     "execution_count": 23,
     "metadata": {},
     "output_type": "execute_result"
    }
   ],
   "source": [
    "pd.crosstab(dfq[\"smoke\"], dfq[\"parity\"], margins = True)"
   ]
  },
  {
   "cell_type": "code",
   "execution_count": 24,
   "id": "804edf4e",
   "metadata": {},
   "outputs": [],
   "source": [
    "# 110 mothers are smokers who have been pregnant before."
   ]
  },
  {
   "cell_type": "markdown",
   "id": "dfac25c7",
   "metadata": {},
   "source": [
    "8. Describe the Measures of Central Tendency (mean, median, mode) of the numeric variables in the dataset. Calculate the mean, median, and mode for all 5 numeric variables. For each median and mode, describe the following:\n",
    "\n",
    "    * What does the median value tell you about the data?\n",
    "    * What does the mode value tell you about the data?"
   ]
  },
  {
   "cell_type": "code",
   "execution_count": 25,
   "id": "dcdfc705",
   "metadata": {
    "scrolled": true
   },
   "outputs": [
    {
     "name": "stdout",
     "output_type": "stream",
     "text": [
      "bwt mean: 120.18893129770993\n",
      "bwt median: 120.0\n",
      "bwt mode: 117\n",
      "\n",
      "gestation mean: 280.0019083969466\n",
      "gestation median: 280.0\n",
      "gestation mode: 282.0\n",
      "\n",
      "age mean: 27.170801526717558\n",
      "age median: 26.0\n",
      "age mode: 23.0\n",
      "\n",
      "height mean: 64.03053435114504\n",
      "height median: 64.0\n",
      "height mode: 65.0\n",
      "\n",
      "weight mean: 126.13454198473282\n",
      "weight median: 125.0\n",
      "weight mode: 130.0\n",
      "\n"
     ]
    }
   ],
   "source": [
    "for column in columns:\n",
    "    print(f\"{column} mean: {dfq[column].mean()}\")\n",
    "    print(f\"{column} median: {dfq[column].median()}\")\n",
    "    print(f\"{column} mode: {dfq[column].mode()[0]}\")\n",
    "    print(f\"\")"
   ]
  },
  {
   "cell_type": "code",
   "execution_count": 26,
   "id": "994afbbb",
   "metadata": {},
   "outputs": [],
   "source": [
    "# What does the median value tell you about the data?\n",
    "# What does the mode value tell you about the data?\n",
    "\n",
    "# bwt median: 120.0\n",
    "# The median birth weight is 120 ounces.\n",
    "# bwt mode: 117\n",
    "# The most frequent value for weight is 117 ounces.\n",
    "\n",
    "# gestation median: 280.0\n",
    "# The median value for gestation is 280 weeks.\n",
    "# gestation mode: 282.0\n",
    "# The most frequent value for gestation is 282 weeks.\n",
    "\n",
    "# age median: 26.0\n",
    "# The median value for age of the mother is 26 years.\n",
    "# age mode: 23.0\n",
    "# The most frequent value for age of the mother is 23 weeks.\n",
    "    \n",
    "# height median: 64.0\n",
    "# The median value for height of the mother is 64 inches.\n",
    "# height mode: 65.0\n",
    "# The most frequent value for height of the mother is 65 inches.\n",
    "    \n",
    "# weight median: 125.0\n",
    "# The median value for weight of the mother is 125 pounds.\n",
    "# weight mode: 130.0 \n",
    "# The most frequent value for weight of the mother is 130 pounds.\n"
   ]
  },
  {
   "cell_type": "markdown",
   "id": "6238626d",
   "metadata": {},
   "source": [
    "9. Describe the Measures of Variability of the numeric variables in the dataset. Calculate the range, standard deviation, and 85th percentile for all 5 numeric variables. Answer the following questions:\n",
    "\n",
    "    * Which column has the largest range? Which has the smallest? What does this mean?\n",
    "    * Which column has the largest standard deviation? Which has the smallest? What does this tell you about those variables?"
   ]
  },
  {
   "cell_type": "code",
   "execution_count": 27,
   "id": "11dc745e",
   "metadata": {},
   "outputs": [
    {
     "name": "stdout",
     "output_type": "stream",
     "text": [
      "bwt range: 90 \n",
      "bwt std: 16.44674168161553 \n",
      "bwt 85th percentile: 137.0 \n",
      "\n",
      "gestation range: 64.0 \n",
      "gestation std: 11.371137417737582 \n",
      "gestation 85th percentile: 292.0 \n",
      "\n",
      "age range: 28.0 \n",
      "age std: 5.721023623077813 \n",
      "age 85th percentile: 34.0 \n",
      "\n",
      "height range: 16.0 \n",
      "height std: 2.4879888927471216 \n",
      "height 85th percentile: 67.0 \n",
      "\n",
      "weight range: 101.0 \n",
      "weight std: 17.322549072820664 \n",
      "weight 85th percentile: 145.0 \n",
      "\n"
     ]
    }
   ],
   "source": [
    "# range, standard deviation, and 85th percentile\n",
    "for col in columns:\n",
    "    col_range = dfq[col].max() - dfq[col].min()\n",
    "    col_std = dfq[col].std()\n",
    "    col_85_p = np.percentile(dfq[col],85)\n",
    "    print(f\"{col} range: {col_range} \")\n",
    "    print(f\"{col} std: {col_std } \")\n",
    "    print(f\"{col} 85th percentile: {col_85_p} \")\n",
    "    print()"
   ]
  },
  {
   "cell_type": "code",
   "execution_count": 28,
   "id": "a81edf82",
   "metadata": {},
   "outputs": [],
   "source": [
    "# Which column has the largest range? Which has the smallest? What does this mean?\n",
    "\n",
    "# The weight column has the largest range of 101 lbs. The weight difference between \n",
    "# the lightest and heaviest mother is 101lbs.\n",
    "\n",
    "\n",
    "# The heights column has the smallest range of 16 inches. The  height difference \n",
    "# between the shortest and tallest mother is 16 inches\n"
   ]
  }
 ],
 "metadata": {
  "kernelspec": {
   "display_name": "Python 3 (ipykernel)",
   "language": "python",
   "name": "python3"
  },
  "language_info": {
   "codemirror_mode": {
    "name": "ipython",
    "version": 3
   },
   "file_extension": ".py",
   "mimetype": "text/x-python",
   "name": "python",
   "nbconvert_exporter": "python",
   "pygments_lexer": "ipython3",
   "version": "3.10.9"
  }
 },
 "nbformat": 4,
 "nbformat_minor": 5
}
